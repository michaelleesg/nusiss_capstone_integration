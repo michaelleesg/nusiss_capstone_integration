{
 "cells": [
  {"cell_type":"markdown","metadata":{},"source":["# CyberSage NER Evidence Notebook\nThis notebook runs evaluation, Qdrant bench, security, RAI checks and saves artifacts."]},
  {"cell_type":"code","metadata":{},"source":["!make all"]}
 ],
 "metadata":{},
 "nbformat":4,
 "nbformat_minor":2
}
